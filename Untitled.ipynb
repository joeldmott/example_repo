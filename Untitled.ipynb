{
  "cells": [
    {
      "cell_type": "code",
      "execution_count": null,
      "id": "2f0f9c4c-1903-4dee-8a6c-5626ed963afe",
      "metadata": {
        "id": "2f0f9c4c-1903-4dee-8a6c-5626ed963afe"
      },
      "outputs": [],
      "source": [
        "#example comment"
      ]
    },
    {
      "cell_type": "code",
      "execution_count": 1,
      "id": "3d1eaacb-a8b6-4ee6-bd3e-f9c527cc0551",
      "metadata": {
        "id": "3d1eaacb-a8b6-4ee6-bd3e-f9c527cc0551"
      },
      "outputs": [],
      "source": [
        "import pandas as pd"
      ]
    },
    {
      "cell_type": "code",
      "source": [],
      "metadata": {
        "id": "64ccOJrNSIDx"
      },
      "id": "64ccOJrNSIDx",
      "execution_count": null,
      "outputs": []
    }
  ],
  "metadata": {
    "kernelspec": {
      "display_name": "Python 3 (ipykernel)",
      "language": "python",
      "name": "python3"
    },
    "language_info": {
      "codemirror_mode": {
        "name": "ipython",
        "version": 3
      },
      "file_extension": ".py",
      "mimetype": "text/x-python",
      "name": "python",
      "nbconvert_exporter": "python",
      "pygments_lexer": "ipython3",
      "version": "3.9.18"
    },
    "colab": {
      "provenance": []
    }
  },
  "nbformat": 4,
  "nbformat_minor": 5
}